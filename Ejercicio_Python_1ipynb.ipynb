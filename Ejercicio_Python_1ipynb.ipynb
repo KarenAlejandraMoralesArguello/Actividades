{
  "nbformat": 4,
  "nbformat_minor": 0,
  "metadata": {
    "colab": {
      "provenance": [],
      "authorship_tag": "ABX9TyOZoGV07rtm8imZeSNyFpiW",
      "include_colab_link": true
    },
    "kernelspec": {
      "name": "python3",
      "display_name": "Python 3"
    },
    "language_info": {
      "name": "python"
    }
  },
  "cells": [
    {
      "cell_type": "markdown",
      "metadata": {
        "id": "view-in-github",
        "colab_type": "text"
      },
      "source": [
        "<a href=\"https://colab.research.google.com/github/KarenAlejandraMoralesArguello/Actividades/blob/main/Ejercicio_Python_1ipynb.ipynb\" target=\"_parent\"><img src=\"https://colab.research.google.com/assets/colab-badge.svg\" alt=\"Open In Colab\"/></a>"
      ]
    },
    {
      "cell_type": "code",
      "execution_count": null,
      "metadata": {
        "id": "vaypWTYfm-th"
      },
      "outputs": [],
      "source": []
    },
    {
      "cell_type": "markdown",
      "source": [
        "Ejercicio Python_1, Karen Alejandra Morales Arguello, 1968746, N4\n"
      ],
      "metadata": {
        "id": "VK7Dk0mlnBwp"
      }
    },
    {
      "cell_type": "code",
      "source": [
        "\n",
        "# Solicitar el nombre al usuario\n",
        "nombre = input(\"Por favor, ingresa tu nombre: \")\n",
        "\n",
        "# Lista de nombres excluidos\n",
        "nombres_excluidos = [\"Ana\", \"Juan\", \"Pedro\"]\n",
        "\n",
        "# Verificar si el nombre está en la lista excluida\n",
        "if nombre in nombres_excluidos:\n",
        "    print(\"Lo siento, no puedo saludarte.\")\n",
        "else:\n",
        "    print(f\"Hola, {nombre}!\")"
      ],
      "metadata": {
        "colab": {
          "base_uri": "https://localhost:8080/"
        },
        "id": "xDZ51jCwnhoO",
        "outputId": "cb12eb99-8835-40fd-9407-b0a998bde174"
      },
      "execution_count": 6,
      "outputs": [
        {
          "output_type": "stream",
          "name": "stdout",
          "text": [
            "Por favor, ingresa tu nombre: Karen\n",
            "Hola, Karen!\n"
          ]
        }
      ]
    },
    {
      "cell_type": "code",
      "source": [
        "# Definición de la función para invertir la lista\n",
        "def invertir_lista(lista):\n",
        "    return lista[::-1]\n",
        "\n",
        "# Solicitar el número de elementos en la lista\n",
        "n = int(input(\"¿Cuántos elementos tendrá la lista? \"))\n",
        "\n",
        "# Inicializar la lista vacía\n",
        "lista = []\n",
        "\n",
        "# Solicitar al usuario que ingrese los elementos de la lista\n",
        "for i in range(n):\n",
        "    elemento = input(f\"Ingrese el elemento {i+1}: \")\n",
        "    lista.append(elemento)\n",
        "\n",
        "# Invertir la lista usando la función\n",
        "lista_invertida = invertir_lista(lista)\n",
        "\n",
        "# Mostrar la lista invertida\n",
        "print(\"La lista invertida es:\", lista_invertida)\n"
      ],
      "metadata": {
        "colab": {
          "base_uri": "https://localhost:8080/"
        },
        "id": "4EHqRnwroksE",
        "outputId": "59fa509c-2c4d-4606-c8ed-84ba0c2fecea"
      },
      "execution_count": 7,
      "outputs": [
        {
          "output_type": "stream",
          "name": "stdout",
          "text": [
            "¿Cuántos elementos tendrá la lista? 5\n",
            "Ingrese el elemento 1: pizza\n",
            "Ingrese el elemento 2: nachos\n",
            "Ingrese el elemento 3: hamburguesa\n",
            "Ingrese el elemento 4: papas\n",
            "Ingrese el elemento 5: hot dog\n",
            "La lista invertida es: ['hot dog', 'papas', 'hamburguesa', 'nachos', 'pizza']\n"
          ]
        }
      ]
    },
    {
      "cell_type": "code",
      "source": [
        "# Función para generar la serie de Fibonacci\n",
        "def generar_fibonacci(n):\n",
        "    fibonacci = []\n",
        "    a, b = 0, 1\n",
        "    for _ in range(n):\n",
        "        fibonacci.append(a)\n",
        "        a, b = b, a + b\n",
        "    return fibonacci\n",
        "\n",
        "# Solicitar al usuario cuántos números desea generar\n",
        "num = int(input(\"¿Cuántos números de la serie de Fibonacci quieres generar? \"))\n",
        "\n",
        "# Generar y mostrar la serie de Fibonacci\n",
        "serie_fibonacci = generar_fibonacci(num)\n",
        "print(\"La serie de Fibonacci es:\", serie_fibonacci)\n",
        "\n"
      ],
      "metadata": {
        "colab": {
          "base_uri": "https://localhost:8080/"
        },
        "id": "djGGc7RUo9oK",
        "outputId": "e58384e7-d395-4220-9adc-d7c35b12d96b"
      },
      "execution_count": 8,
      "outputs": [
        {
          "output_type": "stream",
          "name": "stdout",
          "text": [
            "¿Cuántos números de la serie de Fibonacci quieres generar? 6\n",
            "La serie de Fibonacci es: [0, 1, 1, 2, 3, 5]\n"
          ]
        }
      ]
    },
    {
      "cell_type": "code",
      "source": [
        "import random\n",
        "\n",
        "# Generar un número aleatorio entre 1 y 100\n",
        "numero_objetivo = random.randint(1, 100)\n",
        "\n",
        "# Inicializar variable para la adivinanza del usuario\n",
        "adivinanza = None\n",
        "\n",
        "print(\"¡Bienvenido al juego de adivinar el número!\")\n",
        "print(\"He generado un número aleatorio entre 1 y 100. ¡Intenta adivinarlo!\")\n",
        "\n",
        "# Bucle para continuar solicitando adivinanzas hasta que el usuario acierte\n",
        "while adivinanza != numero_objetivo:\n",
        "    # Solicitar una adivinanza al usuario\n",
        "    adivinanza = int(input(\"Ingresa tu adivinanza: \"))\n",
        "\n",
        "    # Proporcionar pistas\n",
        "    if adivinanza < numero_objetivo:\n",
        "        print(\"El número es mayor. ¡Intenta de nuevo!\")\n",
        "    elif adivinanza > numero_objetivo:\n",
        "        print(\"El número es menor. ¡Intenta de nuevo!\")\n",
        "    else:\n",
        "        print(\"¡Felicidades! Adivinaste el número correctamente.\")\n"
      ],
      "metadata": {
        "colab": {
          "base_uri": "https://localhost:8080/",
          "height": 758
        },
        "id": "58XY0awdpgiN",
        "outputId": "4b6e96e3-8f9c-41f6-b237-a0d5914afd74"
      },
      "execution_count": 9,
      "outputs": [
        {
          "output_type": "stream",
          "name": "stdout",
          "text": [
            "¡Bienvenido al juego de adivinar el número!\n",
            "He generado un número aleatorio entre 1 y 100. ¡Intenta adivinarlo!\n",
            "Ingresa tu adivinanza: 20\n",
            "El número es mayor. ¡Intenta de nuevo!\n",
            "Ingresa tu adivinanza: 15\n",
            "El número es mayor. ¡Intenta de nuevo!\n",
            "Ingresa tu adivinanza: 80\n",
            "El número es mayor. ¡Intenta de nuevo!\n",
            "Ingresa tu adivinanza: 32\n",
            "El número es mayor. ¡Intenta de nuevo!\n",
            "Ingresa tu adivinanza: 24\n",
            "El número es mayor. ¡Intenta de nuevo!\n",
            "Ingresa tu adivinanza: 22\n",
            "El número es mayor. ¡Intenta de nuevo!\n",
            "Ingresa tu adivinanza: 15\n",
            "El número es mayor. ¡Intenta de nuevo!\n",
            "Ingresa tu adivinanza: 19\n",
            "El número es mayor. ¡Intenta de nuevo!\n",
            "Ingresa tu adivinanza: 61\n",
            "El número es mayor. ¡Intenta de nuevo!\n",
            "Ingresa tu adivinanza: 72\n",
            "El número es mayor. ¡Intenta de nuevo!\n"
          ]
        },
        {
          "output_type": "error",
          "ename": "KeyboardInterrupt",
          "evalue": "Interrupted by user",
          "traceback": [
            "\u001b[0;31m---------------------------------------------------------------------------\u001b[0m",
            "\u001b[0;31mKeyboardInterrupt\u001b[0m                         Traceback (most recent call last)",
            "\u001b[0;32m<ipython-input-9-695d1ce82500>\u001b[0m in \u001b[0;36m<cell line: 13>\u001b[0;34m()\u001b[0m\n\u001b[1;32m     13\u001b[0m \u001b[0;32mwhile\u001b[0m \u001b[0madivinanza\u001b[0m \u001b[0;34m!=\u001b[0m \u001b[0mnumero_objetivo\u001b[0m\u001b[0;34m:\u001b[0m\u001b[0;34m\u001b[0m\u001b[0;34m\u001b[0m\u001b[0m\n\u001b[1;32m     14\u001b[0m     \u001b[0;31m# Solicitar una adivinanza al usuario\u001b[0m\u001b[0;34m\u001b[0m\u001b[0;34m\u001b[0m\u001b[0m\n\u001b[0;32m---> 15\u001b[0;31m     \u001b[0madivinanza\u001b[0m \u001b[0;34m=\u001b[0m \u001b[0mint\u001b[0m\u001b[0;34m(\u001b[0m\u001b[0minput\u001b[0m\u001b[0;34m(\u001b[0m\u001b[0;34m\"Ingresa tu adivinanza: \"\u001b[0m\u001b[0;34m)\u001b[0m\u001b[0;34m)\u001b[0m\u001b[0;34m\u001b[0m\u001b[0;34m\u001b[0m\u001b[0m\n\u001b[0m\u001b[1;32m     16\u001b[0m \u001b[0;34m\u001b[0m\u001b[0m\n\u001b[1;32m     17\u001b[0m     \u001b[0;31m# Proporcionar pistas\u001b[0m\u001b[0;34m\u001b[0m\u001b[0;34m\u001b[0m\u001b[0m\n",
            "\u001b[0;32m/usr/local/lib/python3.10/dist-packages/ipykernel/kernelbase.py\u001b[0m in \u001b[0;36mraw_input\u001b[0;34m(self, prompt)\u001b[0m\n\u001b[1;32m    849\u001b[0m                 \u001b[0;34m\"raw_input was called, but this frontend does not support input requests.\"\u001b[0m\u001b[0;34m\u001b[0m\u001b[0;34m\u001b[0m\u001b[0m\n\u001b[1;32m    850\u001b[0m             )\n\u001b[0;32m--> 851\u001b[0;31m         return self._input_request(str(prompt),\n\u001b[0m\u001b[1;32m    852\u001b[0m             \u001b[0mself\u001b[0m\u001b[0;34m.\u001b[0m\u001b[0m_parent_ident\u001b[0m\u001b[0;34m,\u001b[0m\u001b[0;34m\u001b[0m\u001b[0;34m\u001b[0m\u001b[0m\n\u001b[1;32m    853\u001b[0m             \u001b[0mself\u001b[0m\u001b[0;34m.\u001b[0m\u001b[0m_parent_header\u001b[0m\u001b[0;34m,\u001b[0m\u001b[0;34m\u001b[0m\u001b[0;34m\u001b[0m\u001b[0m\n",
            "\u001b[0;32m/usr/local/lib/python3.10/dist-packages/ipykernel/kernelbase.py\u001b[0m in \u001b[0;36m_input_request\u001b[0;34m(self, prompt, ident, parent, password)\u001b[0m\n\u001b[1;32m    893\u001b[0m             \u001b[0;32mexcept\u001b[0m \u001b[0mKeyboardInterrupt\u001b[0m\u001b[0;34m:\u001b[0m\u001b[0;34m\u001b[0m\u001b[0;34m\u001b[0m\u001b[0m\n\u001b[1;32m    894\u001b[0m                 \u001b[0;31m# re-raise KeyboardInterrupt, to truncate traceback\u001b[0m\u001b[0;34m\u001b[0m\u001b[0;34m\u001b[0m\u001b[0m\n\u001b[0;32m--> 895\u001b[0;31m                 \u001b[0;32mraise\u001b[0m \u001b[0mKeyboardInterrupt\u001b[0m\u001b[0;34m(\u001b[0m\u001b[0;34m\"Interrupted by user\"\u001b[0m\u001b[0;34m)\u001b[0m \u001b[0;32mfrom\u001b[0m \u001b[0;32mNone\u001b[0m\u001b[0;34m\u001b[0m\u001b[0;34m\u001b[0m\u001b[0m\n\u001b[0m\u001b[1;32m    896\u001b[0m             \u001b[0;32mexcept\u001b[0m \u001b[0mException\u001b[0m \u001b[0;32mas\u001b[0m \u001b[0me\u001b[0m\u001b[0;34m:\u001b[0m\u001b[0;34m\u001b[0m\u001b[0;34m\u001b[0m\u001b[0m\n\u001b[1;32m    897\u001b[0m                 \u001b[0mself\u001b[0m\u001b[0;34m.\u001b[0m\u001b[0mlog\u001b[0m\u001b[0;34m.\u001b[0m\u001b[0mwarning\u001b[0m\u001b[0;34m(\u001b[0m\u001b[0;34m\"Invalid Message:\"\u001b[0m\u001b[0;34m,\u001b[0m \u001b[0mexc_info\u001b[0m\u001b[0;34m=\u001b[0m\u001b[0;32mTrue\u001b[0m\u001b[0;34m)\u001b[0m\u001b[0;34m\u001b[0m\u001b[0;34m\u001b[0m\u001b[0m\n",
            "\u001b[0;31mKeyboardInterrupt\u001b[0m: Interrupted by user"
          ]
        }
      ]
    },
    {
      "cell_type": "code",
      "source": [
        "# Función para verificar si un número es primo\n",
        "def es_primo(n):\n",
        "    if n < 2:\n",
        "        return False\n",
        "    for i in range(2, int(n**0.5) + 1):\n",
        "        if n % i == 0:\n",
        "            return False\n",
        "    return True\n",
        "\n",
        "# Solicitar al usuario el rango de números\n",
        "inicio = int(input(\"Ingresa el número de inicio del rango: \"))\n",
        "fin = int(input(\"Ingresa el número final del rango: \"))\n",
        "\n",
        "# Mostrar los números primos en el rango dado\n",
        "print(f\"Números primos entre {inicio} y {fin}:\")\n",
        "for num in range(inicio, fin + 1):\n",
        "    if es_primo(num):\n",
        "        print(num)\n"
      ],
      "metadata": {
        "colab": {
          "base_uri": "https://localhost:8080/"
        },
        "id": "md_N-EJrptrJ",
        "outputId": "26e556de-a8de-431b-de72-3e884dd5e06e"
      },
      "execution_count": 10,
      "outputs": [
        {
          "output_type": "stream",
          "name": "stdout",
          "text": [
            "Ingresa el número de inicio del rango: 5\n",
            "Ingresa el número final del rango: 10\n",
            "Números primos entre 5 y 10:\n",
            "5\n",
            "7\n"
          ]
        }
      ]
    },
    {
      "cell_type": "code",
      "source": [
        "# Función para la suma\n",
        "def sumar(a, b):\n",
        "    return a + b\n",
        "\n",
        "# Función para la resta\n",
        "def restar(a, b):\n",
        "    return a - b\n",
        "\n",
        "# Función para la multiplicación\n",
        "def multiplicar(a, b):\n",
        "    return a * b\n",
        "\n",
        "# Función para la división\n",
        "def dividir(a, b):\n",
        "    if b == 0:\n",
        "        return \"Error: División por cero\"\n",
        "    return a / b\n",
        "\n",
        "# Función principal que solicita los números y realiza las operaciones\n",
        "def calculadora():\n",
        "    # Solicitar al usuario los dos números\n",
        "    numero1 = float(input(\"Introduce el primer número: \"))\n",
        "    numero2 = float(input(\"Introduce el segundo número: \"))\n",
        "\n",
        "    # Realizar las operaciones\n",
        "    print(f\"La suma de {numero1} y {numero2} es: {sumar(numero1, numero2)}\")\n",
        "    print(f\"La resta de {numero1} y {numero2} es: {restar(numero1, numero2)}\")\n",
        "    print(f\"La multiplicación de {numero1} y {numero2} es: {multiplicar(numero1, numero2)}\")\n",
        "    resultado_division = dividir(numero1, numero2)\n",
        "    if isinstance(resultado_division, str):\n",
        "        print(resultado_division)\n",
        "    else:\n",
        "        print(f\"La división de {numero1} entre {numero2} es: {resultado_division}\")\n",
        "\n",
        "# Llamada a la función principal\n",
        "calculadora()\n"
      ],
      "metadata": {
        "colab": {
          "base_uri": "https://localhost:8080/"
        },
        "id": "ZQuD2_s43Lsj",
        "outputId": "e7f1c516-e462-4e89-cd8f-3756d3def480"
      },
      "execution_count": 16,
      "outputs": [
        {
          "output_type": "stream",
          "name": "stdout",
          "text": [
            "Introduce el primer número: 4\n",
            "Introduce el segundo número: 3\n",
            "La suma de 4.0 y 3.0 es: 7.0\n",
            "La resta de 4.0 y 3.0 es: 1.0\n",
            "La multiplicación de 4.0 y 3.0 es: 12.0\n",
            "La división de 4.0 entre 3.0 es: 1.3333333333333333\n"
          ]
        }
      ]
    }
  ]
}